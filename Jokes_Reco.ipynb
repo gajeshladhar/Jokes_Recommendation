{
  "nbformat": 4,
  "nbformat_minor": 0,
  "metadata": {
    "colab": {
      "name": "Jokes_Reco",
      "provenance": []
    },
    "kernelspec": {
      "name": "python3",
      "display_name": "Python 3"
    },
    "accelerator": "GPU"
  },
  "cells": [
    {
      "cell_type": "code",
      "metadata": {
        "id": "SJq5gfPMqW5M",
        "colab_type": "code",
        "colab": {
          "base_uri": "https://localhost:8080/",
          "height": 204
        },
        "outputId": "947cf3d5-18e0-4b62-f5ee-e379019eec99"
      },
      "source": [
        "!wget 'http://eigentaste.berkeley.edu/dataset/jester_dataset_1_joke_texts.zip'"
      ],
      "execution_count": 2,
      "outputs": [
        {
          "output_type": "stream",
          "text": [
            "--2020-07-24 15:19:21--  http://eigentaste.berkeley.edu/dataset/jester_dataset_1_joke_texts.zip\n",
            "Resolving eigentaste.berkeley.edu (eigentaste.berkeley.edu)... 128.32.192.72\n",
            "Connecting to eigentaste.berkeley.edu (eigentaste.berkeley.edu)|128.32.192.72|:80... connected.\n",
            "HTTP request sent, awaiting response... 200 OK\n",
            "Length: 92053 (90K) [application/zip]\n",
            "Saving to: ‘jester_dataset_1_joke_texts.zip’\n",
            "\n",
            "\r          jester_da   0%[                    ]       0  --.-KB/s               \r         jester_dat  55%[==========>         ]  50.14K   183KB/s               \rjester_dataset_1_jo 100%[===================>]  89.90K   327KB/s    in 0.3s    \n",
            "\n",
            "2020-07-24 15:19:22 (327 KB/s) - ‘jester_dataset_1_joke_texts.zip’ saved [92053/92053]\n",
            "\n"
          ],
          "name": "stdout"
        }
      ]
    },
    {
      "cell_type": "code",
      "metadata": {
        "id": "E0q34vaNq8pg",
        "colab_type": "code",
        "colab": {
          "base_uri": "https://localhost:8080/",
          "height": 204
        },
        "outputId": "bd3b74fc-e593-4d1c-a519-cc900e106524"
      },
      "source": [
        "!wget 'http://eigentaste.berkeley.edu/dataset/jester_dataset_1_1.zip'"
      ],
      "execution_count": 3,
      "outputs": [
        {
          "output_type": "stream",
          "text": [
            "--2020-07-24 15:19:28--  http://eigentaste.berkeley.edu/dataset/jester_dataset_1_1.zip\n",
            "Resolving eigentaste.berkeley.edu (eigentaste.berkeley.edu)... 128.32.192.72\n",
            "Connecting to eigentaste.berkeley.edu (eigentaste.berkeley.edu)|128.32.192.72|:80... connected.\n",
            "HTTP request sent, awaiting response... 200 OK\n",
            "Length: 4171628 (4.0M) [application/zip]\n",
            "Saving to: ‘jester_dataset_1_1.zip’\n",
            "\n",
            "jester_dataset_1_1. 100%[===================>]   3.98M  3.57MB/s    in 1.1s    \n",
            "\n",
            "2020-07-24 15:19:30 (3.57 MB/s) - ‘jester_dataset_1_1.zip’ saved [4171628/4171628]\n",
            "\n"
          ],
          "name": "stdout"
        }
      ]
    },
    {
      "cell_type": "code",
      "metadata": {
        "id": "kncP5XvxrBaH",
        "colab_type": "code",
        "colab": {}
      },
      "source": [
        "from zipfile import ZipFile\n",
        "with ZipFile('jester_dataset_1_joke_texts.zip') as z:\n",
        "  z.extractall()"
      ],
      "execution_count": 4,
      "outputs": []
    },
    {
      "cell_type": "code",
      "metadata": {
        "id": "QP6zU2fBrQwQ",
        "colab_type": "code",
        "colab": {}
      },
      "source": [
        "with ZipFile('jester_dataset_1_1.zip') as z:\n",
        "  z.extractall()"
      ],
      "execution_count": 5,
      "outputs": []
    },
    {
      "cell_type": "code",
      "metadata": {
        "id": "bdXngs_MrVcr",
        "colab_type": "code",
        "colab": {}
      },
      "source": [
        "import numpy as np\n",
        "import pandas as pd\n",
        "import matplotlib.pyplot as plt\n",
        "import tensorflow.compat.v1 as tf\n",
        "import re\n",
        "from sklearn.decomposition import PCA"
      ],
      "execution_count": 6,
      "outputs": []
    },
    {
      "cell_type": "code",
      "metadata": {
        "id": "Q3xERhgprxlj",
        "colab_type": "code",
        "colab": {
          "base_uri": "https://localhost:8080/",
          "height": 88
        },
        "outputId": "0f4f9143-68f0-490c-d080-495e22fbb0d0"
      },
      "source": [
        "tf.disable_v2_behavior()"
      ],
      "execution_count": 7,
      "outputs": [
        {
          "output_type": "stream",
          "text": [
            "WARNING:tensorflow:From /usr/local/lib/python3.6/dist-packages/tensorflow/python/compat/v2_compat.py:96: disable_resource_variables (from tensorflow.python.ops.variable_scope) is deprecated and will be removed in a future version.\n",
            "Instructions for updating:\n",
            "non-resource variables are not supported in the long term\n"
          ],
          "name": "stdout"
        }
      ]
    },
    {
      "cell_type": "code",
      "metadata": {
        "id": "_DbLKhXir0LL",
        "colab_type": "code",
        "colab": {}
      },
      "source": [
        "dataset=pd.read_excel('/content/jester-data-1.xls')"
      ],
      "execution_count": 8,
      "outputs": []
    },
    {
      "cell_type": "code",
      "metadata": {
        "id": "Js5w5S2Xr70X",
        "colab_type": "code",
        "colab": {
          "base_uri": "https://localhost:8080/",
          "height": 253
        },
        "outputId": "0a049e05-de53-4efe-f9cc-6b332ae67f90"
      },
      "source": [
        "dataset.head()"
      ],
      "execution_count": 9,
      "outputs": [
        {
          "output_type": "execute_result",
          "data": {
            "text/html": [
              "<div>\n",
              "<style scoped>\n",
              "    .dataframe tbody tr th:only-of-type {\n",
              "        vertical-align: middle;\n",
              "    }\n",
              "\n",
              "    .dataframe tbody tr th {\n",
              "        vertical-align: top;\n",
              "    }\n",
              "\n",
              "    .dataframe thead th {\n",
              "        text-align: right;\n",
              "    }\n",
              "</style>\n",
              "<table border=\"1\" class=\"dataframe\">\n",
              "  <thead>\n",
              "    <tr style=\"text-align: right;\">\n",
              "      <th></th>\n",
              "      <th>74</th>\n",
              "      <th>-7.82</th>\n",
              "      <th>8.79</th>\n",
              "      <th>-9.66</th>\n",
              "      <th>-8.16</th>\n",
              "      <th>-7.52</th>\n",
              "      <th>-8.5</th>\n",
              "      <th>-9.85</th>\n",
              "      <th>4.17</th>\n",
              "      <th>-8.98</th>\n",
              "      <th>-4.76</th>\n",
              "      <th>-8.5.1</th>\n",
              "      <th>-6.75</th>\n",
              "      <th>-7.18</th>\n",
              "      <th>8.45</th>\n",
              "      <th>-7.18.1</th>\n",
              "      <th>-7.52.1</th>\n",
              "      <th>-7.43</th>\n",
              "      <th>-9.81</th>\n",
              "      <th>-9.85.1</th>\n",
              "      <th>-9.85.2</th>\n",
              "      <th>-9.37</th>\n",
              "      <th>1.5</th>\n",
              "      <th>-4.37</th>\n",
              "      <th>-9.81.1</th>\n",
              "      <th>-8.5.2</th>\n",
              "      <th>1.12</th>\n",
              "      <th>7.82</th>\n",
              "      <th>2.86</th>\n",
              "      <th>9.13</th>\n",
              "      <th>-7.43.1</th>\n",
              "      <th>2.14</th>\n",
              "      <th>-4.08</th>\n",
              "      <th>-9.08</th>\n",
              "      <th>7.82.1</th>\n",
              "      <th>5.05</th>\n",
              "      <th>4.95</th>\n",
              "      <th>-9.17</th>\n",
              "      <th>-8.4</th>\n",
              "      <th>-8.4.1</th>\n",
              "      <th>...</th>\n",
              "      <th>8.59</th>\n",
              "      <th>3.59</th>\n",
              "      <th>-6.84</th>\n",
              "      <th>-9.03.1</th>\n",
              "      <th>2.82.1</th>\n",
              "      <th>-1.36</th>\n",
              "      <th>-9.08.2</th>\n",
              "      <th>8.3.1</th>\n",
              "      <th>5.68</th>\n",
              "      <th>-4.81</th>\n",
              "      <th>99</th>\n",
              "      <th>99.1</th>\n",
              "      <th>99.2</th>\n",
              "      <th>99.3</th>\n",
              "      <th>99.4</th>\n",
              "      <th>99.5</th>\n",
              "      <th>99.6</th>\n",
              "      <th>-9.42.1</th>\n",
              "      <th>99.7</th>\n",
              "      <th>99.8</th>\n",
              "      <th>99.9</th>\n",
              "      <th>-7.72</th>\n",
              "      <th>99.10</th>\n",
              "      <th>99.11</th>\n",
              "      <th>99.12</th>\n",
              "      <th>99.13</th>\n",
              "      <th>99.14</th>\n",
              "      <th>99.15</th>\n",
              "      <th>99.16</th>\n",
              "      <th>99.17</th>\n",
              "      <th>2.82.2</th>\n",
              "      <th>99.18</th>\n",
              "      <th>99.19</th>\n",
              "      <th>99.20</th>\n",
              "      <th>99.21</th>\n",
              "      <th>99.22</th>\n",
              "      <th>-5.63</th>\n",
              "      <th>99.23</th>\n",
              "      <th>99.24</th>\n",
              "      <th>99.25</th>\n",
              "    </tr>\n",
              "  </thead>\n",
              "  <tbody>\n",
              "    <tr>\n",
              "      <th>0</th>\n",
              "      <td>100</td>\n",
              "      <td>4.08</td>\n",
              "      <td>-0.29</td>\n",
              "      <td>6.36</td>\n",
              "      <td>4.37</td>\n",
              "      <td>-2.38</td>\n",
              "      <td>-9.66</td>\n",
              "      <td>-0.73</td>\n",
              "      <td>-5.34</td>\n",
              "      <td>8.88</td>\n",
              "      <td>9.22</td>\n",
              "      <td>6.75</td>\n",
              "      <td>8.64</td>\n",
              "      <td>4.42</td>\n",
              "      <td>7.43</td>\n",
              "      <td>4.56</td>\n",
              "      <td>-0.97</td>\n",
              "      <td>4.66</td>\n",
              "      <td>-0.68</td>\n",
              "      <td>3.30</td>\n",
              "      <td>-1.21</td>\n",
              "      <td>0.87</td>\n",
              "      <td>8.64</td>\n",
              "      <td>8.35</td>\n",
              "      <td>9.17</td>\n",
              "      <td>0.05</td>\n",
              "      <td>7.57</td>\n",
              "      <td>4.71</td>\n",
              "      <td>0.87</td>\n",
              "      <td>-0.39</td>\n",
              "      <td>6.99</td>\n",
              "      <td>6.50</td>\n",
              "      <td>-0.92</td>\n",
              "      <td>7.14</td>\n",
              "      <td>9.03</td>\n",
              "      <td>-1.80</td>\n",
              "      <td>0.73</td>\n",
              "      <td>7.09</td>\n",
              "      <td>3.40</td>\n",
              "      <td>-0.87</td>\n",
              "      <td>...</td>\n",
              "      <td>-6.70</td>\n",
              "      <td>-3.35</td>\n",
              "      <td>-9.03</td>\n",
              "      <td>4.47</td>\n",
              "      <td>4.08</td>\n",
              "      <td>-3.83</td>\n",
              "      <td>8.74</td>\n",
              "      <td>1.12</td>\n",
              "      <td>0.78</td>\n",
              "      <td>7.52</td>\n",
              "      <td>-5.00</td>\n",
              "      <td>2.77</td>\n",
              "      <td>8.3</td>\n",
              "      <td>7.77</td>\n",
              "      <td>7.33</td>\n",
              "      <td>6.21</td>\n",
              "      <td>7.72</td>\n",
              "      <td>8.98</td>\n",
              "      <td>8.64</td>\n",
              "      <td>8.20</td>\n",
              "      <td>3.93</td>\n",
              "      <td>4.85</td>\n",
              "      <td>4.85</td>\n",
              "      <td>6.07</td>\n",
              "      <td>8.98</td>\n",
              "      <td>4.51</td>\n",
              "      <td>-0.05</td>\n",
              "      <td>3.69</td>\n",
              "      <td>4.56</td>\n",
              "      <td>0.58</td>\n",
              "      <td>2.82</td>\n",
              "      <td>-4.95</td>\n",
              "      <td>-0.29</td>\n",
              "      <td>7.86</td>\n",
              "      <td>-0.19</td>\n",
              "      <td>-2.14</td>\n",
              "      <td>3.06</td>\n",
              "      <td>0.34</td>\n",
              "      <td>-4.32</td>\n",
              "      <td>1.07</td>\n",
              "    </tr>\n",
              "    <tr>\n",
              "      <th>1</th>\n",
              "      <td>49</td>\n",
              "      <td>99.00</td>\n",
              "      <td>99.00</td>\n",
              "      <td>99.00</td>\n",
              "      <td>99.00</td>\n",
              "      <td>9.03</td>\n",
              "      <td>9.27</td>\n",
              "      <td>9.03</td>\n",
              "      <td>9.27</td>\n",
              "      <td>99.00</td>\n",
              "      <td>99.00</td>\n",
              "      <td>7.33</td>\n",
              "      <td>7.57</td>\n",
              "      <td>9.37</td>\n",
              "      <td>6.17</td>\n",
              "      <td>-6.36</td>\n",
              "      <td>-6.89</td>\n",
              "      <td>-7.86</td>\n",
              "      <td>9.03</td>\n",
              "      <td>9.03</td>\n",
              "      <td>9.03</td>\n",
              "      <td>7.28</td>\n",
              "      <td>99.00</td>\n",
              "      <td>8.25</td>\n",
              "      <td>99.00</td>\n",
              "      <td>99.00</td>\n",
              "      <td>7.48</td>\n",
              "      <td>7.28</td>\n",
              "      <td>7.28</td>\n",
              "      <td>8.93</td>\n",
              "      <td>99.00</td>\n",
              "      <td>6.17</td>\n",
              "      <td>7.28</td>\n",
              "      <td>99.00</td>\n",
              "      <td>99.00</td>\n",
              "      <td>8.98</td>\n",
              "      <td>7.33</td>\n",
              "      <td>99.00</td>\n",
              "      <td>6.17</td>\n",
              "      <td>9.08</td>\n",
              "      <td>...</td>\n",
              "      <td>6.46</td>\n",
              "      <td>7.28</td>\n",
              "      <td>99.00</td>\n",
              "      <td>99.00</td>\n",
              "      <td>7.04</td>\n",
              "      <td>7.28</td>\n",
              "      <td>99.00</td>\n",
              "      <td>7.28</td>\n",
              "      <td>8.25</td>\n",
              "      <td>99.00</td>\n",
              "      <td>99.00</td>\n",
              "      <td>99.00</td>\n",
              "      <td>99.0</td>\n",
              "      <td>99.00</td>\n",
              "      <td>99.00</td>\n",
              "      <td>8.93</td>\n",
              "      <td>99.00</td>\n",
              "      <td>99.00</td>\n",
              "      <td>99.00</td>\n",
              "      <td>9.08</td>\n",
              "      <td>99.00</td>\n",
              "      <td>99.00</td>\n",
              "      <td>99.00</td>\n",
              "      <td>99.00</td>\n",
              "      <td>99.00</td>\n",
              "      <td>99.00</td>\n",
              "      <td>99.00</td>\n",
              "      <td>99.00</td>\n",
              "      <td>99.00</td>\n",
              "      <td>9.03</td>\n",
              "      <td>99.00</td>\n",
              "      <td>99.00</td>\n",
              "      <td>99.00</td>\n",
              "      <td>9.08</td>\n",
              "      <td>99.00</td>\n",
              "      <td>99.00</td>\n",
              "      <td>99.00</td>\n",
              "      <td>99.00</td>\n",
              "      <td>99.00</td>\n",
              "      <td>99.00</td>\n",
              "    </tr>\n",
              "    <tr>\n",
              "      <th>2</th>\n",
              "      <td>48</td>\n",
              "      <td>99.00</td>\n",
              "      <td>8.35</td>\n",
              "      <td>99.00</td>\n",
              "      <td>99.00</td>\n",
              "      <td>1.80</td>\n",
              "      <td>8.16</td>\n",
              "      <td>-2.82</td>\n",
              "      <td>6.21</td>\n",
              "      <td>99.00</td>\n",
              "      <td>1.84</td>\n",
              "      <td>7.33</td>\n",
              "      <td>6.60</td>\n",
              "      <td>6.31</td>\n",
              "      <td>8.11</td>\n",
              "      <td>-7.23</td>\n",
              "      <td>-6.65</td>\n",
              "      <td>1.17</td>\n",
              "      <td>-6.60</td>\n",
              "      <td>-3.64</td>\n",
              "      <td>-2.09</td>\n",
              "      <td>5.34</td>\n",
              "      <td>99.00</td>\n",
              "      <td>99.00</td>\n",
              "      <td>99.00</td>\n",
              "      <td>99.00</td>\n",
              "      <td>2.91</td>\n",
              "      <td>3.93</td>\n",
              "      <td>6.75</td>\n",
              "      <td>6.60</td>\n",
              "      <td>99.00</td>\n",
              "      <td>6.65</td>\n",
              "      <td>-6.12</td>\n",
              "      <td>99.00</td>\n",
              "      <td>7.57</td>\n",
              "      <td>6.21</td>\n",
              "      <td>6.65</td>\n",
              "      <td>99.00</td>\n",
              "      <td>-8.30</td>\n",
              "      <td>7.18</td>\n",
              "      <td>...</td>\n",
              "      <td>0.00</td>\n",
              "      <td>-3.69</td>\n",
              "      <td>99.00</td>\n",
              "      <td>99.00</td>\n",
              "      <td>7.82</td>\n",
              "      <td>0.24</td>\n",
              "      <td>99.00</td>\n",
              "      <td>7.28</td>\n",
              "      <td>-2.33</td>\n",
              "      <td>99.00</td>\n",
              "      <td>99.00</td>\n",
              "      <td>99.00</td>\n",
              "      <td>99.0</td>\n",
              "      <td>99.00</td>\n",
              "      <td>99.00</td>\n",
              "      <td>99.00</td>\n",
              "      <td>99.00</td>\n",
              "      <td>99.00</td>\n",
              "      <td>99.00</td>\n",
              "      <td>99.00</td>\n",
              "      <td>99.00</td>\n",
              "      <td>99.00</td>\n",
              "      <td>99.00</td>\n",
              "      <td>99.00</td>\n",
              "      <td>0.63</td>\n",
              "      <td>99.00</td>\n",
              "      <td>99.00</td>\n",
              "      <td>-2.33</td>\n",
              "      <td>99.00</td>\n",
              "      <td>99.00</td>\n",
              "      <td>99.00</td>\n",
              "      <td>99.00</td>\n",
              "      <td>99.00</td>\n",
              "      <td>0.53</td>\n",
              "      <td>99.00</td>\n",
              "      <td>99.00</td>\n",
              "      <td>99.00</td>\n",
              "      <td>99.00</td>\n",
              "      <td>99.00</td>\n",
              "      <td>99.00</td>\n",
              "    </tr>\n",
              "    <tr>\n",
              "      <th>3</th>\n",
              "      <td>91</td>\n",
              "      <td>8.50</td>\n",
              "      <td>4.61</td>\n",
              "      <td>-4.17</td>\n",
              "      <td>-5.39</td>\n",
              "      <td>1.36</td>\n",
              "      <td>1.60</td>\n",
              "      <td>7.04</td>\n",
              "      <td>4.61</td>\n",
              "      <td>-0.44</td>\n",
              "      <td>5.73</td>\n",
              "      <td>8.25</td>\n",
              "      <td>6.84</td>\n",
              "      <td>-3.93</td>\n",
              "      <td>7.23</td>\n",
              "      <td>-2.33</td>\n",
              "      <td>-9.66</td>\n",
              "      <td>2.72</td>\n",
              "      <td>-1.36</td>\n",
              "      <td>2.57</td>\n",
              "      <td>4.51</td>\n",
              "      <td>8.20</td>\n",
              "      <td>6.12</td>\n",
              "      <td>8.30</td>\n",
              "      <td>-1.26</td>\n",
              "      <td>7.77</td>\n",
              "      <td>1.89</td>\n",
              "      <td>-1.17</td>\n",
              "      <td>5.68</td>\n",
              "      <td>8.45</td>\n",
              "      <td>4.61</td>\n",
              "      <td>8.06</td>\n",
              "      <td>-9.47</td>\n",
              "      <td>7.28</td>\n",
              "      <td>5.68</td>\n",
              "      <td>2.48</td>\n",
              "      <td>3.20</td>\n",
              "      <td>-1.26</td>\n",
              "      <td>6.80</td>\n",
              "      <td>4.51</td>\n",
              "      <td>...</td>\n",
              "      <td>7.38</td>\n",
              "      <td>6.17</td>\n",
              "      <td>4.71</td>\n",
              "      <td>-2.28</td>\n",
              "      <td>7.38</td>\n",
              "      <td>4.56</td>\n",
              "      <td>7.14</td>\n",
              "      <td>4.22</td>\n",
              "      <td>3.01</td>\n",
              "      <td>3.83</td>\n",
              "      <td>99.00</td>\n",
              "      <td>99.00</td>\n",
              "      <td>99.0</td>\n",
              "      <td>99.00</td>\n",
              "      <td>99.00</td>\n",
              "      <td>99.00</td>\n",
              "      <td>4.13</td>\n",
              "      <td>99.00</td>\n",
              "      <td>99.00</td>\n",
              "      <td>99.00</td>\n",
              "      <td>5.24</td>\n",
              "      <td>5.92</td>\n",
              "      <td>0.87</td>\n",
              "      <td>7.28</td>\n",
              "      <td>3.93</td>\n",
              "      <td>-0.63</td>\n",
              "      <td>6.31</td>\n",
              "      <td>4.71</td>\n",
              "      <td>2.82</td>\n",
              "      <td>2.96</td>\n",
              "      <td>5.19</td>\n",
              "      <td>5.58</td>\n",
              "      <td>4.27</td>\n",
              "      <td>5.19</td>\n",
              "      <td>5.73</td>\n",
              "      <td>1.55</td>\n",
              "      <td>3.11</td>\n",
              "      <td>6.55</td>\n",
              "      <td>1.80</td>\n",
              "      <td>1.60</td>\n",
              "    </tr>\n",
              "    <tr>\n",
              "      <th>4</th>\n",
              "      <td>100</td>\n",
              "      <td>-6.17</td>\n",
              "      <td>-3.54</td>\n",
              "      <td>0.44</td>\n",
              "      <td>-8.50</td>\n",
              "      <td>-7.09</td>\n",
              "      <td>-4.32</td>\n",
              "      <td>-8.69</td>\n",
              "      <td>-0.87</td>\n",
              "      <td>-6.65</td>\n",
              "      <td>-1.80</td>\n",
              "      <td>-6.80</td>\n",
              "      <td>-5.73</td>\n",
              "      <td>-5.00</td>\n",
              "      <td>-8.59</td>\n",
              "      <td>0.49</td>\n",
              "      <td>-8.93</td>\n",
              "      <td>-3.69</td>\n",
              "      <td>-2.18</td>\n",
              "      <td>-2.28</td>\n",
              "      <td>-6.12</td>\n",
              "      <td>-3.01</td>\n",
              "      <td>-0.58</td>\n",
              "      <td>-2.38</td>\n",
              "      <td>-7.77</td>\n",
              "      <td>-2.23</td>\n",
              "      <td>-2.28</td>\n",
              "      <td>-5.24</td>\n",
              "      <td>-5.53</td>\n",
              "      <td>-0.68</td>\n",
              "      <td>-6.94</td>\n",
              "      <td>-3.93</td>\n",
              "      <td>-0.34</td>\n",
              "      <td>-6.60</td>\n",
              "      <td>-5.49</td>\n",
              "      <td>-1.55</td>\n",
              "      <td>-0.49</td>\n",
              "      <td>-6.21</td>\n",
              "      <td>-8.06</td>\n",
              "      <td>-5.39</td>\n",
              "      <td>...</td>\n",
              "      <td>-6.65</td>\n",
              "      <td>-2.86</td>\n",
              "      <td>-4.61</td>\n",
              "      <td>-9.42</td>\n",
              "      <td>-7.91</td>\n",
              "      <td>-9.81</td>\n",
              "      <td>-9.42</td>\n",
              "      <td>-8.98</td>\n",
              "      <td>-1.94</td>\n",
              "      <td>-6.99</td>\n",
              "      <td>-9.66</td>\n",
              "      <td>-5.19</td>\n",
              "      <td>-5.0</td>\n",
              "      <td>-4.42</td>\n",
              "      <td>-7.28</td>\n",
              "      <td>-6.50</td>\n",
              "      <td>-4.32</td>\n",
              "      <td>-6.94</td>\n",
              "      <td>-9.85</td>\n",
              "      <td>0.73</td>\n",
              "      <td>-6.21</td>\n",
              "      <td>-2.86</td>\n",
              "      <td>-7.62</td>\n",
              "      <td>-6.12</td>\n",
              "      <td>-0.29</td>\n",
              "      <td>-1.41</td>\n",
              "      <td>-3.93</td>\n",
              "      <td>-1.94</td>\n",
              "      <td>-5.68</td>\n",
              "      <td>-4.71</td>\n",
              "      <td>-3.54</td>\n",
              "      <td>-6.89</td>\n",
              "      <td>-0.68</td>\n",
              "      <td>-2.96</td>\n",
              "      <td>-2.18</td>\n",
              "      <td>-3.35</td>\n",
              "      <td>0.05</td>\n",
              "      <td>-9.08</td>\n",
              "      <td>-5.05</td>\n",
              "      <td>-3.45</td>\n",
              "    </tr>\n",
              "  </tbody>\n",
              "</table>\n",
              "<p>5 rows × 101 columns</p>\n",
              "</div>"
            ],
            "text/plain": [
              "    74  -7.82   8.79  -9.66  -8.16  ...  99.22  -5.63  99.23  99.24  99.25\n",
              "0  100   4.08  -0.29   6.36   4.37  ...  -2.14   3.06   0.34  -4.32   1.07\n",
              "1   49  99.00  99.00  99.00  99.00  ...  99.00  99.00  99.00  99.00  99.00\n",
              "2   48  99.00   8.35  99.00  99.00  ...  99.00  99.00  99.00  99.00  99.00\n",
              "3   91   8.50   4.61  -4.17  -5.39  ...   1.55   3.11   6.55   1.80   1.60\n",
              "4  100  -6.17  -3.54   0.44  -8.50  ...  -3.35   0.05  -9.08  -5.05  -3.45\n",
              "\n",
              "[5 rows x 101 columns]"
            ]
          },
          "metadata": {
            "tags": []
          },
          "execution_count": 9
        }
      ]
    },
    {
      "cell_type": "code",
      "metadata": {
        "id": "OyMT9iAXr-a-",
        "colab_type": "code",
        "colab": {}
      },
      "source": [
        "jokes=[]\n",
        "for joke in range(1,101):\n",
        "  with open('/content/jokes/init'+str(joke)+'.html') as f:\n",
        "    jokes.append(re.findall(r'<!--begin of joke -->(.*?)<!--end of joke -->',re.sub('\\n|<[a-zA-Z\\/]{1,}?>',' ',f.read()))[0])\n"
      ],
      "execution_count": 10,
      "outputs": []
    },
    {
      "cell_type": "code",
      "metadata": {
        "id": "lFTvIqY10AvG",
        "colab_type": "code",
        "colab": {}
      },
      "source": [
        "Y=dataset.iloc[:,1:].values\n",
        "mask=(Y!=99.00).astype(\"float\")"
      ],
      "execution_count": 11,
      "outputs": []
    },
    {
      "cell_type": "code",
      "metadata": {
        "id": "RuE-skFx5eMo",
        "colab_type": "code",
        "colab": {}
      },
      "source": [
        "X=tf.Variable(initial_value=np.random.random((100,80))/1e+2)"
      ],
      "execution_count": 12,
      "outputs": []
    },
    {
      "cell_type": "code",
      "metadata": {
        "id": "QTVk0scb6Kkd",
        "colab_type": "code",
        "colab": {}
      },
      "source": [
        "W=tf.Variable(np.random.random((Y.shape[0],80))/1e+2)"
      ],
      "execution_count": 13,
      "outputs": []
    },
    {
      "cell_type": "code",
      "metadata": {
        "id": "v16MoDfW_0jp",
        "colab_type": "code",
        "colab": {}
      },
      "source": [
        "loss_basic=(tf.reduce_sum(tf.abs(mask*(tf.matmul(W,tf.transpose(X))-mask*Y))))/Y.shape[0]"
      ],
      "execution_count": 14,
      "outputs": []
    },
    {
      "cell_type": "code",
      "metadata": {
        "id": "hp17og-z6lMI",
        "colab_type": "code",
        "colab": {}
      },
      "source": [
        "loss=(tf.reduce_sum(mask*tf.square(tf.matmul(W,tf.transpose(X))-mask*Y))+0.00000001*tf.reduce_sum(W**2)+ 0.00000001*tf.reduce_sum(X**2))/Y.shape[0]"
      ],
      "execution_count": 15,
      "outputs": []
    },
    {
      "cell_type": "code",
      "metadata": {
        "id": "ZRheSvLi6qXe",
        "colab_type": "code",
        "colab": {}
      },
      "source": [
        "optimizer=tf.train.GradientDescentOptimizer(3.0)"
      ],
      "execution_count": 16,
      "outputs": []
    },
    {
      "cell_type": "code",
      "metadata": {
        "id": "juba6toW8EOw",
        "colab_type": "code",
        "colab": {}
      },
      "source": [
        "op=optimizer.minimize(loss)"
      ],
      "execution_count": 17,
      "outputs": []
    },
    {
      "cell_type": "code",
      "metadata": {
        "id": "-ao5EioO8Hie",
        "colab_type": "code",
        "colab": {}
      },
      "source": [
        "losses=[]\n",
        "epochs=150\n",
        "init=tf.global_variables_initializer()\n",
        "with tf.Session() as sess:\n",
        "\n",
        "  sess.run(init)\n",
        "  for epoch in range(epochs):\n",
        "    #print(\"Epoch : \"+str(epoch+1)+\"/\"+str(epochs))\n",
        "    _,cost=sess.run([op,loss_basic])\n",
        "    #print(\"Loss : \"+str(cost))\n",
        "    losses.append(cost)\n",
        "\n",
        "  X_trained=X.eval()\n",
        "  W_trained=W.eval()"
      ],
      "execution_count": 18,
      "outputs": []
    },
    {
      "cell_type": "code",
      "metadata": {
        "id": "V7KUJe948cyD",
        "colab_type": "code",
        "colab": {
          "base_uri": "https://localhost:8080/",
          "height": 282
        },
        "outputId": "a854af04-5bff-42e1-fee4-bbf4d10418ed"
      },
      "source": [
        "plt.plot(range(len(losses)),losses,color=\"red\")"
      ],
      "execution_count": 19,
      "outputs": [
        {
          "output_type": "execute_result",
          "data": {
            "text/plain": [
              "[<matplotlib.lines.Line2D at 0x7fc4c604ad68>]"
            ]
          },
          "metadata": {
            "tags": []
          },
          "execution_count": 19
        },
        {
          "output_type": "display_data",
          "data": {
            "image/png": "[encoded data removed]",
            "text/plain": [
              "<Figure size 432x288 with 1 Axes>"
            ]
          },
          "metadata": {
            "tags": [],
            "needs_background": "light"
          }
        }
      ]
    },
    {
      "cell_type": "code",
      "metadata": {
        "id": "ugLP5s0d_Dee",
        "colab_type": "code",
        "colab": {
          "base_uri": "https://localhost:8080/",
          "height": 34
        },
        "outputId": "987983bd-1af9-4852-c7fd-57cbe3f6e0cf"
      },
      "source": [
        "cost"
      ],
      "execution_count": 20,
      "outputs": [
        {
          "output_type": "execute_result",
          "data": {
            "text/plain": [
              "34.09690894263764"
            ]
          },
          "metadata": {
            "tags": []
          },
          "execution_count": 20
        }
      ]
    },
    {
      "cell_type": "code",
      "metadata": {
        "id": "hevhDCH3AjUj",
        "colab_type": "code",
        "colab": {
          "base_uri": "https://localhost:8080/",
          "height": 34
        },
        "outputId": "abc7a0a7-b80f-4c68-8062-91fe7cea83ac"
      },
      "source": [
        "np.sum(np.abs((Y[2:3,:]-np.dot(X_trained,W_trained[2:3,:].T).T)*mask[2:3,:]))"
      ],
      "execution_count": 21,
      "outputs": [
        {
          "output_type": "execute_result",
          "data": {
            "text/plain": [
              "0.7374198349927412"
            ]
          },
          "metadata": {
            "tags": []
          },
          "execution_count": 21
        }
      ]
    },
    {
      "cell_type": "code",
      "metadata": {
        "id": "fT8aCM2FA--9",
        "colab_type": "code",
        "colab": {
          "base_uri": "https://localhost:8080/",
          "height": 34
        },
        "outputId": "0bfde683-8971-49b3-c468-187ebe1eb2d5"
      },
      "source": [
        "W_trained.shape"
      ],
      "execution_count": null,
      "outputs": [
        {
          "output_type": "execute_result",
          "data": {
            "text/plain": [
              "(24982, 80)"
            ]
          },
          "metadata": {
            "tags": []
          },
          "execution_count": 225
        }
      ]
    },
    {
      "cell_type": "code",
      "metadata": {
        "id": "iP1ThGnJBkoB",
        "colab_type": "code",
        "colab": {
          "base_uri": "https://localhost:8080/",
          "height": 34
        },
        "outputId": "8e0e8b6f-48a2-42b8-e37e-18db5aa100c1"
      },
      "source": [
        "user=2\n",
        "joke=62\n",
        "np.dot(W_trained[user:user+1,:],X_trained[joke:joke+1,:].T)"
      ],
      "execution_count": 30,
      "outputs": [
        {
          "output_type": "execute_result",
          "data": {
            "text/plain": [
              "array([[3.23035423]])"
            ]
          },
          "metadata": {
            "tags": []
          },
          "execution_count": 30
        }
      ]
    },
    {
      "cell_type": "code",
      "metadata": {
        "id": "dETGf7D-EINR",
        "colab_type": "code",
        "colab": {}
      },
      "source": [
        "pca=PCA(2)"
      ],
      "execution_count": null,
      "outputs": []
    },
    {
      "cell_type": "code",
      "metadata": {
        "id": "WKDHZwNMG1a-",
        "colab_type": "code",
        "colab": {}
      },
      "source": [
        "X_reduced=pca.fit_transform(X_trained)"
      ],
      "execution_count": null,
      "outputs": []
    },
    {
      "cell_type": "code",
      "metadata": {
        "id": "GUdQUTUHG_0c",
        "colab_type": "code",
        "colab": {
          "base_uri": "https://localhost:8080/",
          "height": 34
        },
        "outputId": "59270931-ef45-40e8-a2f8-7937d1824b55"
      },
      "source": [
        "X"
      ],
      "execution_count": null,
      "outputs": [
        {
          "output_type": "execute_result",
          "data": {
            "text/plain": [
              "array([ 1.06997111, -4.85803237])"
            ]
          },
          "metadata": {
            "tags": []
          },
          "execution_count": 233
        }
      ]
    },
    {
      "cell_type": "code",
      "metadata": {
        "id": "hQHs3YQYHBZs",
        "colab_type": "code",
        "colab": {
          "base_uri": "https://localhost:8080/",
          "height": 286
        },
        "outputId": "182f03e3-b59c-437c-fc83-ca85b52ba4c3"
      },
      "source": [
        "plt.scatter(X_reduced[1:5,0],X_reduced[1:5,1])"
      ],
      "execution_count": null,
      "outputs": [
        {
          "output_type": "execute_result",
          "data": {
            "text/plain": [
              "<matplotlib.collections.PathCollection at 0x7f79c9cc2240>"
            ]
          },
          "metadata": {
            "tags": []
          },
          "execution_count": 236
        },
        {
          "output_type": "display_data",
          "data": {
            "image/png": "[encoded data removed]",
            "text/plain": [
              "<Figure size 432x288 with 1 Axes>"
            ]
          },
          "metadata": {
            "tags": [],
            "needs_background": "light"
          }
        }
      ]
    },
    {
      "cell_type": "code",
      "metadata": {
        "id": "R0688pksHKyc",
        "colab_type": "code",
        "colab": {}
      },
      "source": [
        "# finding similar Jokes\n",
        "sim=0\n",
        "joke=42\n",
        "sim_joke=joke\n",
        "for i in range(100):\n",
        "  if i==joke :\n",
        "    continue\n",
        "  temp=np.dot(X_trained[i:i+1,:],X_trained[joke:joke+1,:].T)/(np.linalg.norm(X_trained[i:i+1,:])*np.linalg.norm(X_trained[joke:joke+1,:]))\n",
        "  if temp>sim :\n",
        "    sim_joke=i\n",
        "    sim=temp\n"
      ],
      "execution_count": null,
      "outputs": []
    },
    {
      "cell_type": "code",
      "metadata": {
        "id": "QzpfQGnSIWc0",
        "colab_type": "code",
        "colab": {
          "base_uri": "https://localhost:8080/",
          "height": 34
        },
        "outputId": "37b9fd45-fecf-4b83-aa41-b8deeaaaf737"
      },
      "source": [
        "sim_joke"
      ],
      "execution_count": null,
      "outputs": [
        {
          "output_type": "execute_result",
          "data": {
            "text/plain": [
              "8"
            ]
          },
          "metadata": {
            "tags": []
          },
          "execution_count": 261
        }
      ]
    },
    {
      "cell_type": "code",
      "metadata": {
        "id": "OV6nfl3sIgHz",
        "colab_type": "code",
        "colab": {
          "base_uri": "https://localhost:8080/",
          "height": 52
        },
        "outputId": "a467dd2c-d1a8-4f31-9853-2001b2def35e"
      },
      "source": [
        "jokes[joke]"
      ],
      "execution_count": null,
      "outputs": [
        {
          "output_type": "execute_result",
          "data": {
            "application/vnd.google.colaboratory.intrinsic+json": {
              "type": "string"
            },
            "text/plain": [
              "' Arnold Swartzeneger and Sylvester Stallone are making a movie about the lives of the great composers.    Stallone says \"I want to be Mozart.\"   Swartzeneger says: \"In that case...  I\\'ll be Bach.\" '"
            ]
          },
          "metadata": {
            "tags": []
          },
          "execution_count": 262
        }
      ]
    },
    {
      "cell_type": "code",
      "metadata": {
        "id": "SmY50EdKImeF",
        "colab_type": "code",
        "colab": {
          "base_uri": "https://localhost:8080/",
          "height": 86
        },
        "outputId": "9284ab71-a52f-4100-b29b-2963adaadc1f"
      },
      "source": [
        "jokes[sim_joke]"
      ],
      "execution_count": null,
      "outputs": [
        {
          "output_type": "execute_result",
          "data": {
            "application/vnd.google.colaboratory.intrinsic+json": {
              "type": "string"
            },
            "text/plain": [
              "' A country guy goes into a city bar that has a dress code, and the maitre d\\'  demands he wear a tie. Discouraged, the guy goes to his car to sulk when  inspiration strikes: He\\'s got jumper cables in the trunk! So he wraps them around his neck, sort of like a string tie (a bulky string tie to be sure) and returns to the bar. The maitre d\\' is reluctant, but says to the guy, \"Okay, you\\'re a pretty resourceful fellow, you can come in... but just don\\'t start anything\"!   '"
            ]
          },
          "metadata": {
            "tags": []
          },
          "execution_count": 263
        }
      ]
    },
    {
      "cell_type": "code",
      "metadata": {
        "id": "a8-M1swhIqbv",
        "colab_type": "code",
        "colab": {}
      },
      "source": [
        ""
      ],
      "execution_count": null,
      "outputs": []
    }
  ]
}